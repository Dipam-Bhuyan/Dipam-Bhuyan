{
  "nbformat": 4,
  "nbformat_minor": 0,
  "metadata": {
    "colab": {
      "provenance": [],
      "authorship_tag": "ABX9TyNGEr0UXrL/Dzglro9IQ0z1",
      "include_colab_link": true
    },
    "kernelspec": {
      "name": "python3",
      "display_name": "Python 3"
    },
    "language_info": {
      "name": "python"
    }
  },
  "cells": [
    {
      "cell_type": "markdown",
      "metadata": {
        "id": "view-in-github",
        "colab_type": "text"
      },
      "source": [
        "<a href=\"https://colab.research.google.com/github/Dipam-Bhuyan/Dipam-Bhuyan/blob/main/Day1.ipynb\" target=\"_parent\"><img src=\"https://colab.research.google.com/assets/colab-badge.svg\" alt=\"Open In Colab\"/></a>"
      ]
    },
    {
      "cell_type": "code",
      "execution_count": 5,
      "metadata": {
        "colab": {
          "base_uri": "https://localhost:8080/"
        },
        "id": "4x8X5lgOYRG-",
        "outputId": "94ce1787-c8ad-41af-9abb-f9e330488b5f"
      },
      "outputs": [
        {
          "output_type": "stream",
          "name": "stdout",
          "text": [
            "Enter the string:madam\n",
            "The string is Palindrome\n"
          ]
        }
      ],
      "source": [
        "def rev(n):\n",
        "  return (n[::-1])\n",
        "string=input(\"Enter the string:\")\n",
        "rev_str=rev(string)\n",
        "if string != rev_str:\n",
        "    print(\"\\nThe string is not Palindrome\")\n",
        "else:\n",
        "    print(\"\\nThe string is Palindrome\")"
      ]
    },
    {
      "cell_type": "code",
      "source": [
        "name = input(\"Enter the string: \")\n",
        "wh=name.count(\"wh\")\n",
        "ho=name.count(\"ho\")\n",
        "th=name.count(\"th\")\n",
        "if wh > 0 or ho > 0 or th>0:\n",
        "   print(\"\\nwh/ho/th is present in the string\")\n",
        "else:\n",
        "   print(\"\\nwh/ho/th is not present in the string\")\n"
      ],
      "metadata": {
        "colab": {
          "base_uri": "https://localhost:8080/"
        },
        "id": "cwdXx9xcYYeN",
        "outputId": "a9f7efcc-9d80-45c4-89ca-400d53b6c4d6"
      },
      "execution_count": 1,
      "outputs": [
        {
          "output_type": "stream",
          "name": "stdout",
          "text": [
            "Enter the string: how are u\n",
            "wh/ho/th is present in the string\n"
          ]
        }
      ]
    },
    {
      "cell_type": "code",
      "source": [
        "rows = int(input(\"Enter number of rows : \"))\n",
        "cols =  int(input(\"Enter number of columns : \"))\n",
        "lst=[]\n",
        "for i in range(cols):\n",
        "\tcol = []\n",
        "\tfor j in range(rows):\n",
        "\t\tcol.append(0)\n",
        "\tlst.append(col)\n",
        "print(lst)\n",
        "if rows != 0:\n",
        "  if rows > 1:\n",
        "      print(\"\\nList have sublist\")\n",
        "  else:\n",
        "      print(\"\\nList does not have any sub list\")\n",
        "else:\n",
        "  print(\"\\nEmpty list\")"
      ],
      "metadata": {
        "colab": {
          "base_uri": "https://localhost:8080/"
        },
        "id": "XI2Bb-kEeyEs",
        "outputId": "6ef6a30a-3b03-4e24-84f9-933fc76f77d0"
      },
      "execution_count": 32,
      "outputs": [
        {
          "output_type": "stream",
          "name": "stdout",
          "text": [
            "Enter number of rows : 2\n",
            "Enter number of columns : 5\n",
            "[[0, 0], [0, 0], [0, 0], [0, 0], [0, 0]]\n",
            "\n",
            "List have sublist\n"
          ]
        }
      ]
    },
    {
      "cell_type": "code",
      "source": [
        "lst = []\n",
        "n = int(input(\"Enter number of elements : \"))\n",
        "for i in range(n):\n",
        "\titems = int(input())\n",
        "\tlst.append(items)\n",
        "print(lst)\n",
        "set = {}\n",
        "for i in lst:\n",
        "\tset[i] = lst.count(i)\n",
        "print(set)"
      ],
      "metadata": {
        "colab": {
          "base_uri": "https://localhost:8080/"
        },
        "id": "J1LzH3RspE7F",
        "outputId": "7a83a3d5-490c-4d74-a08b-77d865555074"
      },
      "execution_count": 48,
      "outputs": [
        {
          "output_type": "stream",
          "name": "stdout",
          "text": [
            "Enter number of elements : 5\n",
            "1\n",
            "2\n",
            "1\n",
            "1\n",
            "3\n",
            "[1, 2, 1, 1, 3]\n",
            "{1: 3, 2: 1, 3: 1}\n"
          ]
        }
      ]
    },
    {
      "cell_type": "code",
      "source": [
        "lst = []\n",
        "n = int(input(\"Enter number of elements : \"))\n",
        "for i in range(n):\n",
        "\titems = int(input())\n",
        "\tlst.append(items)\n",
        "lst.sort()\n",
        "print(\"\\n\")\n",
        "print(lst)\n",
        "print(\"Second largest element is:\", lst[n-2])"
      ],
      "metadata": {
        "colab": {
          "base_uri": "https://localhost:8080/"
        },
        "id": "eITG8CWdb43A",
        "outputId": "93308b3f-70be-470c-d7db-9c15d1ce45de"
      },
      "execution_count": 34,
      "outputs": [
        {
          "output_type": "stream",
          "name": "stdout",
          "text": [
            "Enter number of elements : 5\n",
            "16\n",
            "5\n",
            "76\n",
            "9\n",
            "3\n",
            "\n",
            "\n",
            "[3, 5, 9, 16, 76]\n",
            "Second largest element is: 16\n"
          ]
        }
      ]
    }
  ]
}