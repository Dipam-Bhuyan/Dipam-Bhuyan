{
  "nbformat": 4,
  "nbformat_minor": 0,
  "metadata": {
    "colab": {
      "provenance": [],
      "authorship_tag": "ABX9TyPtUN1G3DjnrRMTLUa73NHV",
      "include_colab_link": true
    },
    "kernelspec": {
      "name": "python3",
      "display_name": "Python 3"
    },
    "language_info": {
      "name": "python"
    }
  },
  "cells": [
    {
      "cell_type": "markdown",
      "metadata": {
        "id": "view-in-github",
        "colab_type": "text"
      },
      "source": [
        "<a href=\"https://colab.research.google.com/github/Dipam-Bhuyan/Dipam-Bhuyan/blob/main/Day3.ipynb\" target=\"_parent\"><img src=\"https://colab.research.google.com/assets/colab-badge.svg\" alt=\"Open In Colab\"/></a>"
      ]
    },
    {
      "cell_type": "code",
      "source": [
        "import numpy as np\n",
        "x1=np.array([[3, 7, 5, 5],\n",
        "      [0, 1, 5, 9],\n",
        "      [3, 0, 5, 0],\n",
        "      [1, 2, 3, 4]])\n",
        "print(x1)\n",
        "print(x1.shape)\n",
        "uniqueValues, indicesList, frequency = np.unique(x1, return_index=True,return_counts=True)\n",
        "UniqueList=list(zip(uniqueValues, frequency))\n",
        "print(UniqueList)"
      ],
      "metadata": {
        "colab": {
          "base_uri": "https://localhost:8080/"
        },
        "id": "NqXL8RVxrl4J",
        "outputId": "12dc157b-93d3-45b2-8dc6-c649bb7061fc"
      },
      "execution_count": null,
      "outputs": [
        {
          "output_type": "stream",
          "name": "stdout",
          "text": [
            "[[3 7 5 5]\n",
            " [0 1 5 9]\n",
            " [3 0 5 0]\n",
            " [1 2 3 4]]\n",
            "(4, 4)\n",
            "[(0, 3), (1, 2), (2, 1), (3, 3), (4, 1), (5, 4), (7, 1), (9, 1)]\n"
          ]
        }
      ]
    },
    {
      "cell_type": "code",
      "source": [
        "import numpy as np\n",
        "x1=np.array([[3, 7, 5, 5],\n",
        "      [10, 1, 5, 9],\n",
        "      [3, 10, 5, 10],\n",
        "      [1, 2, 3, 4]])\n",
        "print(x1)\n",
        "print(\"\\n\")\n",
        "x2=np.unique(x1)\n",
        "print(x2)\n",
        "x3=x2.tolist().count(0)\n",
        "if x3 > 0:\n",
        "  print(\"Zero is in the array\")\n",
        "else:\n",
        "  print(\"Zero is not in the array\")"
      ],
      "metadata": {
        "colab": {
          "base_uri": "https://localhost:8080/"
        },
        "id": "Vv20dIOa3Acs",
        "outputId": "6be3a73a-d130-4ead-d051-e224442839af"
      },
      "execution_count": null,
      "outputs": [
        {
          "output_type": "stream",
          "name": "stdout",
          "text": [
            "[[ 3  7  5  5]\n",
            " [10  1  5  9]\n",
            " [ 3 10  5 10]\n",
            " [ 1  2  3  4]]\n",
            "\n",
            "\n",
            "[ 1  2  3  4  5  7  9 10]\n",
            "Zero is not in the array\n"
          ]
        }
      ]
    },
    {
      "cell_type": "code",
      "source": [
        "import numpy as np\n",
        "x1=np.array([[3, 7, 5, 5],\n",
        "      [10, 1, 5, 9],\n",
        "      [3, 10, 5, 10],\n",
        "      [1, 2, 3, 4]])\n",
        "print(x1)\n",
        "print(\"\\n\")\n",
        "x2=x1.diagonal()\n",
        "print(\"Largest no in the diagonal: \",max(x2))"
      ],
      "metadata": {
        "colab": {
          "base_uri": "https://localhost:8080/"
        },
        "id": "6LaJlB1jH0jL",
        "outputId": "589c25e5-f9af-4f6c-d645-b9f7f6914cee"
      },
      "execution_count": null,
      "outputs": [
        {
          "output_type": "stream",
          "name": "stdout",
          "text": [
            "[[ 3  7  5  5]\n",
            " [10  1  5  9]\n",
            " [ 3 10  5 10]\n",
            " [ 1  2  3  4]]\n",
            "\n",
            "\n",
            "Largest no in the diagonal:  5\n"
          ]
        }
      ]
    },
    {
      "cell_type": "code",
      "source": [
        "import numpy as np\n",
        "x1=np.array([[3, 7, 5, 5],\n",
        "      [10, 1, 5, 9],\n",
        "      [3, 10, 5, 10],\n",
        "      [1, 2, 3, 4]])\n",
        "print(x1)\n",
        "print(\"\\n\")\n",
        "x2=x1.diagonal()\n",
        "x3=np.sum(x2)\n",
        "print(\"Sum of the nos in the diagonal: \",x3)"
      ],
      "metadata": {
        "colab": {
          "base_uri": "https://localhost:8080/"
        },
        "id": "jl3Rh_FSI8x5",
        "outputId": "d0051955-68d6-4fa0-9224-5bc8be81bd46"
      },
      "execution_count": null,
      "outputs": [
        {
          "output_type": "stream",
          "name": "stdout",
          "text": [
            "[[ 3  7  5  5]\n",
            " [10  1  5  9]\n",
            " [ 3 10  5 10]\n",
            " [ 1  2  3  4]]\n",
            "\n",
            "\n",
            "Sum of the nos in the diagonal:  13\n"
          ]
        }
      ]
    },
    {
      "cell_type": "code",
      "source": [
        "import numpy as np\n",
        "x1=np.array([[3, 7, 5, 5],\n",
        "      [10, 1, 5, 9],\n",
        "      [3, 10, 5, 10],\n",
        "      [1, 2, 3, 4]])\n",
        "print(x1)\n",
        "print(\"\\n\")\n",
        "x2=np.unique(x1)\n",
        "x3=x2.tolist()\n",
        "x3.sort()\n",
        "print(\"Sum of the largest three nos in the array: \",x3[-1]+x3[-2]+x3[-3])"
      ],
      "metadata": {
        "colab": {
          "base_uri": "https://localhost:8080/"
        },
        "id": "BsXu_sCvjXYk",
        "outputId": "dab854e9-fd08-432a-9ad0-44bf0decbaaf"
      },
      "execution_count": null,
      "outputs": [
        {
          "output_type": "stream",
          "name": "stdout",
          "text": [
            "[[ 3  7  5  5]\n",
            " [10  1  5  9]\n",
            " [ 3 10  5 10]\n",
            " [ 1  2  3  4]]\n",
            "\n",
            "\n",
            "Sum of the largest three nos in the array:  26\n"
          ]
        }
      ]
    },
    {
      "cell_type": "code",
      "source": [
        "import numpy as np\n",
        "x1=np.array([[3, 7, 5, 5],\n",
        "      [10, 1, 5, 9],\n",
        "      [3, 10, 5, 10],\n",
        "      [1, 2, 3, 4]])\n",
        "print(x1)\n",
        "print(\"\\n\")\n",
        "print (\"The row wise mean: \")\n",
        "print (np.mean(x1,axis=1))"
      ],
      "metadata": {
        "colab": {
          "base_uri": "https://localhost:8080/"
        },
        "id": "CFyLSXoKu2os",
        "outputId": "ee1d9f20-ac2b-46d7-951f-1336917667d6"
      },
      "execution_count": null,
      "outputs": [
        {
          "output_type": "stream",
          "name": "stdout",
          "text": [
            "[[ 3  7  5  5]\n",
            " [10  1  5  9]\n",
            " [ 3 10  5 10]\n",
            " [ 1  2  3  4]]\n",
            "\n",
            "\n",
            "The row wise mean: \n",
            "[5.   6.25 7.   2.5 ]\n"
          ]
        }
      ]
    },
    {
      "cell_type": "code",
      "source": [
        "import numpy as np\n",
        "x1=np.array([[3, 7, 5, 5],\n",
        "      [10, 1, 5, 9],\n",
        "      [3, 10, 5, 10],\n",
        "      [1, 2, 3, 4]])\n",
        "print(x1)\n",
        "print(\"\\n\")\n",
        "print (\"The column wise mean: \")\n",
        "print (np.mean(x1,axis=0))"
      ],
      "metadata": {
        "colab": {
          "base_uri": "https://localhost:8080/"
        },
        "id": "xc_jBxKAEq7Y",
        "outputId": "e5fc122f-21a5-4ce4-d676-34098758e175"
      },
      "execution_count": null,
      "outputs": [
        {
          "output_type": "stream",
          "name": "stdout",
          "text": [
            "[[ 3  7  5  5]\n",
            " [10  1  5  9]\n",
            " [ 3 10  5 10]\n",
            " [ 1  2  3  4]]\n",
            "\n",
            "\n",
            "The column wise mean: \n",
            "[4.25 5.   4.5  7.  ]\n"
          ]
        }
      ]
    },
    {
      "cell_type": "code",
      "source": [
        "import numpy as np\n",
        "A=np.array([[3, 7, 5],\n",
        "      [10, 1, 5],\n",
        "      [3, 10, 5]])\n",
        "print(A)\n",
        "print(\"\\n\")\n",
        "B=np.array([[4, 8, 6],\n",
        "      [9, 1, 6],\n",
        "      [4, 9, 6]])\n",
        "print(B)\n",
        "print(\"\\n\")\n",
        "C=np.greater(A, B)\n",
        "C=np.where(C == True,1,0)\n",
        "print(C)"
      ],
      "metadata": {
        "colab": {
          "base_uri": "https://localhost:8080/"
        },
        "id": "lAOfwJqvFBNI",
        "outputId": "942db45c-703a-4722-98c3-0b75ad587099"
      },
      "execution_count": null,
      "outputs": [
        {
          "output_type": "stream",
          "name": "stdout",
          "text": [
            "[[ 3  7  5]\n",
            " [10  1  5]\n",
            " [ 3 10  5]]\n",
            "\n",
            "\n",
            "[[4 8 6]\n",
            " [9 1 6]\n",
            " [4 9 6]]\n",
            "\n",
            "\n",
            "[[0 0 0]\n",
            " [1 0 0]\n",
            " [0 1 0]]\n"
          ]
        }
      ]
    },
    {
      "cell_type": "code",
      "source": [
        "import numpy as np\n",
        "A=np.array([[3, 7, 5],\n",
        "      [10, 1, 5],\n",
        "      [3, 10, 5]])\n",
        "print(A)\n",
        "print(\"\\n\")\n",
        "B=np.array([[4, 8, 6],\n",
        "      [9, 1, 6],\n",
        "      [4, 9, 6]])\n",
        "print(B)\n",
        "print(\"\\n\")\n",
        "C=np.greater(A, B)\n",
        "C=np.where(C == True,A,B)\n",
        "print(C)"
      ],
      "metadata": {
        "colab": {
          "base_uri": "https://localhost:8080/"
        },
        "id": "YOUOO7Nwaxg1",
        "outputId": "29acb784-a790-46ea-8490-0c301af8f7e2"
      },
      "execution_count": null,
      "outputs": [
        {
          "output_type": "stream",
          "name": "stdout",
          "text": [
            "[[ 3  7  5]\n",
            " [10  1  5]\n",
            " [ 3 10  5]]\n",
            "\n",
            "\n",
            "[[4 8 6]\n",
            " [9 1 6]\n",
            " [4 9 6]]\n",
            "\n",
            "\n",
            "[[ 4  8  6]\n",
            " [10  1  6]\n",
            " [ 4 10  6]]\n"
          ]
        }
      ]
    },
    {
      "cell_type": "code",
      "source": [
        "import numpy as np\n",
        "x = np.array([4, 3, 2, 13, 8, 4, 1, 10, 15, 5])\n",
        "print(x)\n",
        "s=np.sum(x)\n",
        "n=len(x)\n",
        "m=s/n\n",
        "print(\"Mean of the array: \",m)\n",
        "\n",
        "x1=np.subtract(x,m)\n",
        "x2=np.multiply(x1,x1)\n",
        "s1=np.sum(x2)\n",
        "n1=len(x2)\n",
        "v=s1/n1\n",
        "print(\"Standard deviation of the array: \",np.sqrt(v))"
      ],
      "metadata": {
        "colab": {
          "base_uri": "https://localhost:8080/"
        },
        "id": "7OId5UHrbDZ5",
        "outputId": "8a4713a8-e62e-4e1a-f839-15c245de37cc"
      },
      "execution_count": 77,
      "outputs": [
        {
          "output_type": "stream",
          "name": "stdout",
          "text": [
            "[ 4  3  2 13  8  4  1 10 15  5]\n",
            "Mean of the array:  6.5\n",
            "Standard deviation of the array:  4.544227107000705\n"
          ]
        }
      ]
    },
    {
      "cell_type": "code",
      "source": [
        "import numpy as np\n",
        "x = np.array([4, 3, 2, 13, 8, 4, 1, 10, 15, 5])\n",
        "print(x)\n",
        "s=np.sum(x)\n",
        "n=len(x)\n",
        "m=s/n\n",
        "print(\"Mean of the array: \",m)\n",
        "\n",
        "x1=np.subtract(x,m)\n",
        "x2=np.multiply(x1,x1)\n",
        "s1=np.sum(x2)\n",
        "n1=len(x2)\n",
        "v=s1/n1\n",
        "x3=np.sqrt(v)\n",
        "print(\"Standard deviation of the array: \",x3)\n",
        "\n",
        "x4=x1/x3\n",
        "print(\"Normalise the array by performing (xi-xmean)/xstd.:\",x4)"
      ],
      "metadata": {
        "colab": {
          "base_uri": "https://localhost:8080/"
        },
        "id": "VFO6qEjmj1Zq",
        "outputId": "0391d975-7a49-4a83-f98b-9ab727a1ce95"
      },
      "execution_count": 78,
      "outputs": [
        {
          "output_type": "stream",
          "name": "stdout",
          "text": [
            "[ 4  3  2 13  8  4  1 10 15  5]\n",
            "Mean of the array:  6.5\n",
            "Standard deviation of the array:  4.544227107000705\n",
            "Normalise the array by performing (xi-xmean)/xstd.: [-0.55014856 -0.77020798 -0.99026741  1.43038626  0.33008914 -0.55014856\n",
            " -1.21032683  0.77020798  1.8705051  -0.33008914]\n"
          ]
        }
      ]
    }
  ]
}